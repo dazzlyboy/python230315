{
  "cells": [
    {
      "cell_type": "markdown",
      "metadata": {
        "id": "S8lgSIyfHGBE"
      },
      "source": [
        "# 대분류"
      ]
    },
    {
      "cell_type": "markdown",
      "metadata": {
        "id": "JLvrNC28GeTJ"
      },
      "source": [
        "## 자기소개\n",
        "- 이름, 과거직장경력, 이 과정 이수 후 어디로 취업 희망\n",
        "-- 개발자 / 분석가"
      ]
    },
    {
      "cell_type": "code",
      "execution_count": null,
      "metadata": {
        "colab": {
          "base_uri": "https://localhost:8080/"
        },
        "id": "f1Yjr5_1HRxD",
        "outputId": "96de417e-a781-450b-ae8e-90bb82bfe7c7"
      },
      "outputs": [
        {
          "data": {
            "text/plain": [
              "2"
            ]
          },
          "execution_count": 1,
          "metadata": {},
          "output_type": "execute_result"
        }
      ],
      "source": [
        "1+1"
      ]
    },
    {
      "cell_type": "code",
      "execution_count": null,
      "metadata": {
        "colab": {
          "base_uri": "https://localhost:8080/"
        },
        "id": "4v1829k4F__z",
        "outputId": "495b664f-e2c1-4e64-d6bd-264fd01edf1f"
      },
      "outputs": [
        {
          "name": "stdout",
          "output_type": "stream",
          "text": [
            "Hello World\n"
          ]
        }
      ],
      "source": [
        "print(\"Hello World\")"
      ]
    },
    {
      "cell_type": "markdown",
      "metadata": {
        "id": "oKi98HxLGzEf"
      },
      "source": [
        "## 파이선 기초 문법\n",
        "- 주석처리\n",
        "- 여러 줄 주석처리 시, \n",
        "  + 함수, 클래스 작성할 때 요긴하게 쓰임 (예 : Docstring)\n"
      ]
    },
    {
      "cell_type": "code",
      "execution_count": 5,
      "metadata": {
        "colab": {
          "base_uri": "https://localhost:8080/"
        },
        "id": "bGnw3zbve6qM",
        "outputId": "4135e1f9-83fb-4b5d-e6d7-253fce4df70c"
      },
      "outputs": [
        {
          "name": "stdout",
          "output_type": "stream",
          "text": [
            "Hello World\n"
          ]
        }
      ],
      "source": [
        "# 이 코드는 무슨무슨 코드임\n",
        "\n",
        "'''\n",
        "여러줄 주석 처리\n",
        "어ㅏㄹ어마ㅓ랑\n",
        "'''\n",
        "\n",
        "\"\"\"\n",
        "어ㅏ러마ㅏㅣㅓ\n",
        "\"\"\"\n",
        "\n",
        "print(\"Hello World\")"
      ]
    },
    {
      "cell_type": "markdown",
      "metadata": {
        "id": "Yo6h7k3thP-N"
      },
      "source": [
        "## 변수의 종류 (Scala 자료형)\n",
        "- 4가지 존재 : int, float, bool, None\n",
        "- 스칼라의 의미 : 더 이상 나누어지지 않는 것"
      ]
    },
    {
      "cell_type": "markdown",
      "metadata": {
        "id": "cJ7aVCLshkl6"
      },
      "source": [
        "### int형 예제\n"
      ]
    },
    {
      "cell_type": "code",
      "execution_count": 8,
      "metadata": {
        "colab": {
          "base_uri": "https://localhost:8080/"
        },
        "id": "uzDKhXNohPfq",
        "outputId": "2c0cfa81-b7bb-4502-eba8-3562901277a9"
      },
      "outputs": [
        {
          "name": "stdout",
          "output_type": "stream",
          "text": [
            "1\n",
            "<class 'int'>\n"
          ]
        }
      ],
      "source": [
        "temp_int = 1\n",
        "print(temp_int)\n",
        "print(type(temp_int))"
      ]
    },
    {
      "cell_type": "markdown",
      "metadata": {
        "id": "WbXzh1Upi6W4"
      },
      "source": [
        "- 문자열"
      ]
    },
    {
      "cell_type": "code",
      "execution_count": 11,
      "metadata": {
        "colab": {
          "base_uri": "https://localhost:8080/"
        },
        "id": "Ct29FVXJi789",
        "outputId": "cfc9cc24-9b99-46c5-d5bd-00b3011586fe"
      },
      "outputs": [
        {
          "name": "stdout",
          "output_type": "stream",
          "text": [
            "1\n",
            "<class 'str'>\n"
          ]
        }
      ],
      "source": [
        "temp_int = '1'\n",
        "print(temp_int)\n",
        "print(type(temp_int))"
      ]
    },
    {
      "cell_type": "markdown",
      "metadata": {
        "id": "EHFDF6AjjeZZ"
      },
      "source": [
        "### float형 예제\n",
        "- 실수형"
      ]
    },
    {
      "cell_type": "code",
      "execution_count": null,
      "metadata": {
        "id": "mejgcS5AkomP"
      },
      "outputs": [],
      "source": []
    },
    {
      "cell_type": "code",
      "execution_count": 13,
      "metadata": {
        "colab": {
          "base_uri": "https://localhost:8080/"
        },
        "id": "-1t6IVKUjj8G",
        "outputId": "1501c76e-df60-40be-9bfb-1a454a042801"
      },
      "outputs": [
        {
          "name": "stdout",
          "output_type": "stream",
          "text": [
            "0.2\n",
            "<class 'float'>\n"
          ]
        }
      ],
      "source": [
        "num_float = 0.2 \n",
        "print(num_float)\n",
        "print(type(num_float))"
      ]
    },
    {
      "cell_type": "markdown",
      "metadata": {
        "id": "etcjdWGBkF7G"
      },
      "source": [
        "### Bool 형\n",
        "- 참 거짓"
      ]
    },
    {
      "cell_type": "markdown",
      "metadata": {
        "id": "oI9ji9vMk6GD"
      },
      "source": [
        "### None 자료형\n",
        "- Null을 나타내는 자료형\n",
        "  + 데이터분석에서 가장 처리하기 까다로운 자료형"
      ]
    },
    {
      "cell_type": "code",
      "execution_count": 15,
      "metadata": {
        "colab": {
          "base_uri": "https://localhost:8080/"
        },
        "id": "1lS1oa0BlUJE",
        "outputId": "c8af0276-b609-41dd-e943-9ab3294aacfb"
      },
      "outputs": [
        {
          "name": "stdout",
          "output_type": "stream",
          "text": [
            "<class 'NoneType'>\n"
          ]
        }
      ],
      "source": [
        "temp_none = None \n",
        "print(type(temp_none))"
      ]
    },
    {
      "cell_type": "markdown",
      "metadata": {
        "id": "qXHDFAuGnHdm"
      },
      "source": [
        "## 사칙연산\n",
        "- 정수형 사칙연산"
      ]
    },
    {
      "cell_type": "code",
      "execution_count": 20,
      "metadata": {
        "colab": {
          "base_uri": "https://localhost:8080/"
        },
        "id": "TvtvlDTGnJ_5",
        "outputId": "2a34c679-d817-4cc4-b8ab-582aa1fcd829"
      },
      "outputs": [
        {
          "name": "stdout",
          "output_type": "stream",
          "text": [
            "8\n",
            "4\n",
            "12\n",
            "3.0\n",
            "3\n",
            "36\n",
            "0\n"
          ]
        }
      ],
      "source": [
        "a = 6\n",
        "b = 2\n",
        "\n",
        "print(a + b) # 덧셈\n",
        "print(a - b) # 뺄셈\n",
        "print(a * b) # 곱셈\n",
        "print(a / b) # 나누기\n",
        "print(a // b) # 몫\n",
        "print(a ** b) # 제곱\n",
        "print(a % b) # 나머지"
      ]
    },
    {
      "cell_type": "markdown",
      "metadata": {
        "id": "6xMtvJFornv6"
      },
      "source": [
        "### 실수형 사칙연산"
      ]
    },
    {
      "cell_type": "code",
      "execution_count": 21,
      "metadata": {
        "colab": {
          "base_uri": "https://localhost:8080/"
        },
        "id": "1fTnEg85rpwv",
        "outputId": "410c47f4-fdcd-46ed-be71-2519b0c4e2f2"
      },
      "outputs": [
        {
          "name": "stdout",
          "output_type": "stream",
          "text": [
            "8.0\n",
            "4.0\n",
            "12.0\n",
            "3.0\n",
            "3.0\n",
            "36.0\n",
            "0.0\n"
          ]
        }
      ],
      "source": [
        "a = 6.0\n",
        "b = 2.0\n",
        "\n",
        "print(a + b) # 덧셈\n",
        "print(a - b) # 뺄셈\n",
        "print(a * b) # 곱셈\n",
        "print(a / b) # 나누기\n",
        "print(a // b) # 몫\n",
        "print(a ** b) # 제곱\n",
        "print(a % b) # 나머지"
      ]
    },
    {
      "cell_type": "markdown",
      "metadata": {
        "id": "qE8fv5KPsG_t"
      },
      "source": [
        "### 논리형 연산자\n",
        "- AND 조건, OR 조건이 있음"
      ]
    },
    {
      "cell_type": "code",
      "execution_count": 22,
      "metadata": {
        "colab": {
          "base_uri": "https://localhost:8080/"
        },
        "id": "O7onvtv2rdXQ",
        "outputId": "c635d71c-ce09-469a-c9b2-539d098ec41c"
      },
      "outputs": [
        {
          "name": "stdout",
          "output_type": "stream",
          "text": [
            "True\n",
            "False\n",
            "False\n",
            "False\n"
          ]
        }
      ],
      "source": [
        "print(True and True)\n",
        "print(True and False)\n",
        "print(False and True)\n",
        "print(False and False)"
      ]
    },
    {
      "cell_type": "code",
      "execution_count": 23,
      "metadata": {
        "colab": {
          "base_uri": "https://localhost:8080/"
        },
        "id": "pdpZYWSGtSTr",
        "outputId": "03da4182-6a44-4b20-b89d-b786add0f5a3"
      },
      "outputs": [
        {
          "name": "stdout",
          "output_type": "stream",
          "text": [
            "True\n",
            "True\n",
            "True\n",
            "False\n"
          ]
        }
      ],
      "source": [
        "print(True or True)\n",
        "print(True or False)\n",
        "print(False or True)\n",
        "print(False or False)"
      ]
    },
    {
      "cell_type": "markdown",
      "metadata": {
        "id": "RlBX88TDtp5q"
      },
      "source": [
        "### 비교 연산자\n",
        "- 비교 연산자는 부등호를 의미함\n",
        "- 왼쪽이 기준 값"
      ]
    },
    {
      "cell_type": "code",
      "execution_count": 26,
      "metadata": {
        "colab": {
          "base_uri": "https://localhost:8080/"
        },
        "id": "q8QWqjfntvwI",
        "outputId": "c066568e-fb05-4cae-ad88-4aa7e976559d"
      },
      "outputs": [
        {
          "name": "stdout",
          "output_type": "stream",
          "text": [
            "True\n",
            "False\n",
            "False\n",
            "True\n"
          ]
        }
      ],
      "source": [
        "print(4 > 3)\n",
        "print(3 > 4)\n",
        "print(3 >= 4)\n",
        "print(3 <= 4)"
      ]
    },
    {
      "cell_type": "markdown",
      "metadata": {
        "id": "Nd8Tc-4euIW-"
      },
      "source": [
        "## input()\n",
        "- print() : 출력\n",
        "- input() : 입력"
      ]
    },
    {
      "cell_type": "code",
      "execution_count": 6,
      "metadata": {
        "colab": {
          "base_uri": "https://localhost:8080/"
        },
        "id": "ZshMs9KtzVPD",
        "outputId": "986d9d0b-9eae-4e93-9e24-a1dc7cf0f6e9"
      },
      "outputs": [
        {
          "name": "stdout",
          "output_type": "stream",
          "text": [
            "값을 입력해주세요!! 6\n",
            "6\n",
            "<class 'int'>\n"
          ]
        }
      ],
      "source": [
        "var = input(\"값을 입력해주세요!! \")\n",
        "int_var = int(var)\n",
        "print(int_var)\n",
        "print(type(int_var))"
      ]
    },
    {
      "cell_type": "code",
      "execution_count": 5,
      "metadata": {
        "colab": {
          "base_uri": "https://localhost:8080/"
        },
        "id": "vNPDywUKuQ2-",
        "outputId": "8f31e0ee-55bb-46f2-ce5d-eb68e21a320f"
      },
      "outputs": [
        {
          "name": "stdout",
          "output_type": "stream",
          "text": [
            "값을 입력해주세요!! 5\n",
            "5\n",
            "<class 'int'>\n"
          ]
        }
      ],
      "source": [
        "var = input(\"값을 입력해주세요!! \")\n",
        "print(var)\n",
        "\n",
        "var = int(var)\n",
        "print(type(var))"
      ]
    },
    {
      "cell_type": "code",
      "execution_count": 7,
      "metadata": {
        "colab": {
          "base_uri": "https://localhost:8080/"
        },
        "id": "De7E-U5wvL9E",
        "outputId": "4bf8cdbd-b0d0-4d91-d7c4-a27dcb8d939a"
      },
      "outputs": [
        {
          "name": "stdout",
          "output_type": "stream",
          "text": [
            "값을 입력해주세요!! 10\n",
            "값을 입력해주세요!! 20\n",
            "30\n"
          ]
        }
      ],
      "source": [
        "num1 = int(input(\"값을 입력해주세요!! \"))\n",
        "num2 = int(input(\"값을 입력해주세요!! \"))\n",
        "\n",
        "result = num1 + num2 \n",
        "print(result)"
      ]
    },
    {
      "cell_type": "markdown",
      "metadata": {
        "id": "f7oN1kC-0Um2"
      },
      "source": [
        "## String\n",
        "- 매우 중요함!!!!!!!!!!! \n",
        "- "
      ]
    },
    {
      "cell_type": "markdown",
      "metadata": {
        "id": "UjJbQcAK7B_C"
      },
      "source": [
        "### String 연산자"
      ]
    },
    {
      "cell_type": "code",
      "execution_count": 8,
      "metadata": {
        "colab": {
          "base_uri": "https://localhost:8080/"
        },
        "id": "Ibzq96B86B5_",
        "outputId": "97549919-bb1e-4200-9919-0f34db4bfc75"
      },
      "outputs": [
        {
          "name": "stdout",
          "output_type": "stream",
          "text": [
            "Hello World\n"
          ]
        }
      ],
      "source": [
        "str1 = \"Hello \"\n",
        "str2 = \"World\"\n",
        "\n",
        "print(str1 + str2)"
      ]
    },
    {
      "cell_type": "code",
      "execution_count": 11,
      "metadata": {
        "colab": {
          "base_uri": "https://localhost:8080/"
        },
        "id": "Z-c1Rb9y6vs0",
        "outputId": "b8e7d545-6521-46cf-9b1c-496a38ae1578"
      },
      "outputs": [
        {
          "name": "stdout",
          "output_type": "stream",
          "text": [
            "Hello World\n"
          ]
        }
      ],
      "source": [
        "str1 = \"Hello \"\n",
        "str2 = \"World\"\n",
        "\n",
        "result = str1 + str2\n",
        "print(result)"
      ]
    },
    {
      "cell_type": "code",
      "execution_count": 10,
      "metadata": {
        "colab": {
          "base_uri": "https://localhost:8080/"
        },
        "id": "MB3udw0E6YeP",
        "outputId": "ec772d81-c3a0-4691-c3ad-dad2ed6ade16"
      },
      "outputs": [
        {
          "name": "stdout",
          "output_type": "stream",
          "text": [
            "1055\n"
          ]
        }
      ],
      "source": [
        "str1 = \"55\"\n",
        "str2 = \"1000\"\n",
        "print(int(str1) + int(str2))"
      ]
    },
    {
      "cell_type": "markdown",
      "metadata": {
        "id": "6teHtBY16-L9"
      },
      "source": [
        "- 곱셈 연산자 사용"
      ]
    },
    {
      "cell_type": "code",
      "execution_count": 13,
      "metadata": {
        "colab": {
          "base_uri": "https://localhost:8080/"
        },
        "id": "DbeVooQk69_e",
        "outputId": "896c3519-f5d4-403d-c765-91da7021e26e"
      },
      "outputs": [
        {
          "name": "stdout",
          "output_type": "stream",
          "text": [
            "Hello World Hello World Hello World \n"
          ]
        }
      ],
      "source": [
        "greeting = \"Hello World \"\n",
        "print(greeting * 3)"
      ]
    },
    {
      "cell_type": "markdown",
      "metadata": {
        "id": "XAAiGMDE7aWS"
      },
      "source": [
        "### Indexing \n",
        "- 중요!! \n",
        "- 0번째부터 시작"
      ]
    },
    {
      "cell_type": "code",
      "execution_count": 23,
      "metadata": {
        "colab": {
          "base_uri": "https://localhost:8080/"
        },
        "id": "-JaIpEtP7e6Y",
        "outputId": "df350576-22a6-4123-cd78-b33a9b2f6930"
      },
      "outputs": [
        {
          "name": "stdout",
          "output_type": "stream",
          "text": [
            "l\n"
          ]
        }
      ],
      "source": [
        "greeting = \"Hello World!\"\n",
        "print(greeting[-3])"
      ]
    },
    {
      "cell_type": "markdown",
      "metadata": {
        "id": "lkv8TZ8o8dz2"
      },
      "source": [
        "### 슬라이싱\n",
        "- 자름"
      ]
    },
    {
      "cell_type": "code",
      "execution_count": 31,
      "metadata": {
        "colab": {
          "base_uri": "https://localhost:8080/"
        },
        "id": "lmmD__9i8skf",
        "outputId": "1aa65cbd-4837-418f-b47a-3f4ee9b8209b"
      },
      "outputs": [
        {
          "name": "stdout",
          "output_type": "stream",
          "text": [
            "Hello\n",
            "Hello World!\n",
            "World!\n",
            "lo Wor\n",
            " World\n",
            "HloWr\n"
          ]
        }
      ],
      "source": [
        "greeting = \"Hello World!\"\n",
        "print(greeting[0:5])\n",
        "print(greeting[:])\n",
        "print(greeting[6:])\n",
        "print(greeting[3:9])\n",
        "print(greeting[5:-1])\n",
        "print(greeting[0:9:2])"
      ]
    },
    {
      "cell_type": "code",
      "execution_count": 34,
      "metadata": {
        "colab": {
          "base_uri": "https://localhost:8080/",
          "height": 190
        },
        "id": "B6c90uM--vZs",
        "outputId": "e26da404-7395-403b-dd8e-5c0469718715"
      },
      "outputs": [
        {
          "ename": "IndexError",
          "evalue": "ignored",
          "output_type": "error",
          "traceback": [
            "\u001b[0;31m---------------------------------------------------------------------------\u001b[0m",
            "\u001b[0;31mIndexError\u001b[0m                                Traceback (most recent call last)",
            "\u001b[0;32m<ipython-input-34-e143dfc4298d>\u001b[0m in \u001b[0;36m<module>\u001b[0;34m\u001b[0m\n\u001b[1;32m      1\u001b[0m \u001b[0mgreeting\u001b[0m \u001b[0;34m=\u001b[0m \u001b[0;34m\"Hello World!!!!!\"\u001b[0m\u001b[0;34m\u001b[0m\u001b[0;34m\u001b[0m\u001b[0m\n\u001b[0;32m----> 2\u001b[0;31m \u001b[0mgreeting\u001b[0m\u001b[0;34m[\u001b[0m\u001b[0;36m20\u001b[0m\u001b[0;34m]\u001b[0m\u001b[0;34m\u001b[0m\u001b[0;34m\u001b[0m\u001b[0m\n\u001b[0m",
            "\u001b[0;31mIndexError\u001b[0m: string index out of range"
          ]
        }
      ],
      "source": [
        "greeting = \"Hello World!!!!!\"\n",
        "greeting[20]"
      ]
    },
    {
      "cell_type": "markdown",
      "metadata": {
        "id": "moWI0wgN_x1X"
      },
      "source": [
        "### 문자열의 함수들\n",
        "- 공식문서! "
      ]
    },
    {
      "cell_type": "markdown",
      "metadata": {
        "id": "Dq0PRpsfx-JM"
      },
      "source": []
    },
    {
      "cell_type": "markdown",
      "metadata": {
        "id": "YRTcJDFfG79h"
      },
      "source": [
        "### 기초문법\n",
        "- ㅇㅁ러ㅏ이ㅓㅣㅓ"
      ]
    },
    {
      "cell_type": "markdown",
      "metadata": {
        "id": "AZGHuls6G_0j"
      },
      "source": [
        "### 판다스 문법\n",
        "- 어ㅏㅣ러마ㅓ리ㅏ어"
      ]
    },
    {
      "cell_type": "markdown",
      "metadata": {
        "id": "JMEK_JPbHI58"
      },
      "source": [
        "# 대분류2"
      ]
    }
  ],
  "metadata": {
    "colab": {
      "provenance": []
    },
    "kernelspec": {
      "display_name": "Python 3",
      "name": "python3"
    },
    "language_info": {
      "name": "python"
    }
  },
  "nbformat": 4,
  "nbformat_minor": 0
}
